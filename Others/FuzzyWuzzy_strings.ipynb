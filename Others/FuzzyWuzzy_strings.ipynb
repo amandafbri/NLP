{
  "nbformat": 4,
  "nbformat_minor": 0,
  "metadata": {
    "colab": {
      "name": "Fuzzy strings",
      "provenance": [],
      "collapsed_sections": [
        "pdpHsIqhxG4g"
      ],
      "authorship_tag": "ABX9TyN2dBXfsXCyMA1vrqFGwqEk",
      "include_colab_link": true
    },
    "kernelspec": {
      "name": "python3",
      "display_name": "Python 3"
    }
  },
  "cells": [
    {
      "cell_type": "markdown",
      "metadata": {
        "id": "view-in-github",
        "colab_type": "text"
      },
      "source": [
        "<a href=\"https://colab.research.google.com/github/amandafbri/NLP/blob/master/FuzzyWuzzy_strings.ipynb\" target=\"_parent\"><img src=\"https://colab.research.google.com/assets/colab-badge.svg\" alt=\"Open In Colab\"/></a>"
      ]
    },
    {
      "cell_type": "markdown",
      "metadata": {
        "id": "duluY2MDwiqu"
      },
      "source": [
        "# **FuzzyWuzzy**"
      ]
    },
    {
      "cell_type": "markdown",
      "metadata": {
        "id": "lLmK1qIkwn_e"
      },
      "source": [
        "Esse pacote faz match entre strings de maneira \"difusa\", ou seja, verifica a semelhança entre elas. Utiliza Distância de Levenshtein para calcular a diferença entre as sequências."
      ]
    },
    {
      "cell_type": "markdown",
      "metadata": {
        "id": "pdpHsIqhxG4g"
      },
      "source": [
        "### **Setup**"
      ]
    },
    {
      "cell_type": "code",
      "metadata": {
        "colab": {
          "base_uri": "https://localhost:8080/"
        },
        "id": "yzc7je34LBXb",
        "outputId": "6935d4c5-ffaa-40b9-f37e-22e4f9d479ba"
      },
      "source": [
        "!pip install fuzzywuzzy"
      ],
      "execution_count": 21,
      "outputs": [
        {
          "output_type": "stream",
          "text": [
            "Requirement already satisfied: fuzzywuzzy in /usr/local/lib/python3.6/dist-packages (0.18.0)\n"
          ],
          "name": "stdout"
        }
      ]
    },
    {
      "cell_type": "code",
      "metadata": {
        "id": "u0ymu4dPLQkv"
      },
      "source": [
        "from fuzzywuzzy import fuzz,t process"
      ],
      "execution_count": 22,
      "outputs": []
    },
    {
      "cell_type": "markdown",
      "metadata": {
        "id": "PknA0FArxLgD"
      },
      "source": [
        "### **Principais recursos**"
      ]
    },
    {
      "cell_type": "markdown",
      "metadata": {
        "id": "uQl_BfzsYGtv"
      },
      "source": [
        "**Ratio** ⟶ Compara a similaridade da string toda, em ordem."
      ]
    },
    {
      "cell_type": "code",
      "metadata": {
        "colab": {
          "base_uri": "https://localhost:8080/"
        },
        "id": "neutngTrLSEc",
        "outputId": "f9249937-3452-4461-94d8-57306b23f103"
      },
      "source": [
        "fuzz.ratio('Hipertensão arterial', 'Hiper tensão arterial')"
      ],
      "execution_count": 23,
      "outputs": [
        {
          "output_type": "execute_result",
          "data": {
            "text/plain": [
              "98"
            ]
          },
          "metadata": {
            "tags": []
          },
          "execution_count": 23
        }
      ]
    },
    {
      "cell_type": "markdown",
      "metadata": {
        "id": "GDWJAsBz1oMe"
      },
      "source": [
        "Curiosamente, a pontuação é algo importante no cálculo."
      ]
    },
    {
      "cell_type": "code",
      "metadata": {
        "colab": {
          "base_uri": "https://localhost:8080/"
        },
        "id": "lrI_JZ8cL-4m",
        "outputId": "7e0b6fab-9dc7-47d3-ed76-8976eb592c82"
      },
      "source": [
        "fuzz.ratio('HAS', 'H.A.S.')"
      ],
      "execution_count": 24,
      "outputs": [
        {
          "output_type": "execute_result",
          "data": {
            "text/plain": [
              "67"
            ]
          },
          "metadata": {
            "tags": []
          },
          "execution_count": 24
        }
      ]
    },
    {
      "cell_type": "markdown",
      "metadata": {
        "id": "dNPYm7hlYK9l"
      },
      "source": [
        "**Partial Ratio** ⟶ Compara parcialmente a similaridade da string."
      ]
    },
    {
      "cell_type": "code",
      "metadata": {
        "colab": {
          "base_uri": "https://localhost:8080/"
        },
        "id": "HLOqkXe4MGZ7",
        "outputId": "7f88188c-d26f-4409-dfd8-f6add08e3b55"
      },
      "source": [
        "fuzz.partial_ratio('Hipertensão arterial', 'Hiper tensão arterial')"
      ],
      "execution_count": 25,
      "outputs": [
        {
          "output_type": "execute_result",
          "data": {
            "text/plain": [
              "95"
            ]
          },
          "metadata": {
            "tags": []
          },
          "execution_count": 25
        }
      ]
    },
    {
      "cell_type": "markdown",
      "metadata": {
        "id": "6gDjuDLbYKHo"
      },
      "source": [
        "**Token Sort Ratio** ⟶ Ignora a ordem da string."
      ]
    },
    {
      "cell_type": "code",
      "metadata": {
        "colab": {
          "base_uri": "https://localhost:8080/"
        },
        "id": "1RMWQxPzMLbM",
        "outputId": "069a20ae-0df9-45d9-8eb8-4a2bb69d68ad"
      },
      "source": [
        "fuzz.token_sort_ratio('Hipertensão arterial', 'Hiper tensão arterial')"
      ],
      "execution_count": 26,
      "outputs": [
        {
          "output_type": "execute_result",
          "data": {
            "text/plain": [
              "97"
            ]
          },
          "metadata": {
            "tags": []
          },
          "execution_count": 26
        }
      ]
    },
    {
      "cell_type": "markdown",
      "metadata": {
        "id": "d19g-K5tYX14"
      },
      "source": [
        "**Token Set Ratio** ⟶ Ignora palavras duplicadas, sendo um pouco mais flexível que o anterior."
      ]
    },
    {
      "cell_type": "code",
      "metadata": {
        "colab": {
          "base_uri": "https://localhost:8080/"
        },
        "id": "Y9JrqhIvMRGv",
        "outputId": "ce343ee4-c627-4c97-d7dd-ad4fe960e65f"
      },
      "source": [
        "fuzz.token_set_ratio('Hiper tensão tensão arterial', 'Hiper tensão arterial')"
      ],
      "execution_count": 27,
      "outputs": [
        {
          "output_type": "execute_result",
          "data": {
            "text/plain": [
              "100"
            ]
          },
          "metadata": {
            "tags": []
          },
          "execution_count": 27
        }
      ]
    },
    {
      "cell_type": "markdown",
      "metadata": {
        "id": "j_vJk3E3yaxH"
      },
      "source": [
        "**Extract** ⟶ Retorna o ou os melhores matches de acordo com uma lista de escolhas. Possui vários parâmetros de configuração para definir o \"conceito\" do que é melhor e também do retorno em si."
      ]
    },
    {
      "cell_type": "code",
      "metadata": {
        "id": "3FwxnmibMmFx",
        "colab": {
          "base_uri": "https://localhost:8080/"
        },
        "outputId": "ff965dc2-7dde-415f-992c-3d5f0bc9db92"
      },
      "source": [
        "choices = ['Nódulo', 'Tumor', 'Câncer', 'Nodulariforme', 'Cancerígeno', 'Lesão']\r\n",
        "process.extract('imagem nodular', choices, limit=2)"
      ],
      "execution_count": 28,
      "outputs": [
        {
          "output_type": "execute_result",
          "data": {
            "text/plain": [
              "[('Nódulo', 72), ('Nodulariforme', 52)]"
            ]
          },
          "metadata": {
            "tags": []
          },
          "execution_count": 28
        }
      ]
    },
    {
      "cell_type": "markdown",
      "metadata": {
        "id": "cs_XVyVWyj8E"
      },
      "source": [
        "**Extract Best** ⟶ Retorna uma quantidade de melhores matches acima de um limiar de acordo com uma lista de escolhas."
      ]
    },
    {
      "cell_type": "code",
      "metadata": {
        "colab": {
          "base_uri": "https://localhost:8080/"
        },
        "id": "v5bHlUzL0Jtg",
        "outputId": "f677115a-4952-42e0-8f71-96154dd2c78e"
      },
      "source": [
        "process.extractBests('imagem nodular', choices, score_cutoff=70)"
      ],
      "execution_count": 29,
      "outputs": [
        {
          "output_type": "execute_result",
          "data": {
            "text/plain": [
              "[('Nódulo', 72)]"
            ]
          },
          "metadata": {
            "tags": []
          },
          "execution_count": 29
        }
      ]
    },
    {
      "cell_type": "markdown",
      "metadata": {
        "id": "MC6NDgAHymnJ"
      },
      "source": [
        "**Extract One** ⟶ Retorna o melhor match acima de um limiar de acordo com uma lista de escolhas."
      ]
    },
    {
      "cell_type": "code",
      "metadata": {
        "colab": {
          "base_uri": "https://localhost:8080/"
        },
        "id": "rVGLAD7qz8-_",
        "outputId": "213ce17a-0f33-476f-c562-abb395ca34c3"
      },
      "source": [
        "process.extractOne('imagem nodular', choices)"
      ],
      "execution_count": 30,
      "outputs": [
        {
          "output_type": "execute_result",
          "data": {
            "text/plain": [
              "('Nódulo', 72)"
            ]
          },
          "metadata": {
            "tags": []
          },
          "execution_count": 30
        }
      ]
    },
    {
      "cell_type": "markdown",
      "metadata": {
        "id": "PW1Ndj3Lzbaa"
      },
      "source": [
        "**Dedupe** ⟶ Recebe uma lista com strings e retorna a mesma sem termos duplicados. Consideram-se duplicadas as strings com similaridade acima de um limiar."
      ]
    },
    {
      "cell_type": "code",
      "metadata": {
        "colab": {
          "base_uri": "https://localhost:8080/"
        },
        "id": "RhjZz4yu0yGF",
        "outputId": "83d8b93d-bacd-4e3e-d636-271c1f774c5b"
      },
      "source": [
        "to_dedupe = choices + ['nodulo', 'cancer']\r\n",
        "print(to_dedupe)\r\n",
        "process.dedupe(choices)"
      ],
      "execution_count": 31,
      "outputs": [
        {
          "output_type": "stream",
          "text": [
            "['Nódulo', 'Tumor', 'Câncer', 'Nodulariforme', 'Cancerígeno', 'Lesão', 'nodulo', 'cancer']\n"
          ],
          "name": "stdout"
        },
        {
          "output_type": "execute_result",
          "data": {
            "text/plain": [
              "['Nódulo', 'Tumor', 'Câncer', 'Nodulariforme', 'Cancerígeno', 'Lesão']"
            ]
          },
          "metadata": {
            "tags": []
          },
          "execution_count": 31
        }
      ]
    },
    {
      "cell_type": "markdown",
      "metadata": {
        "id": "bY2KCLAd1WBZ"
      },
      "source": [
        "# **Casos de uso**"
      ]
    },
    {
      "cell_type": "markdown",
      "metadata": {
        "id": "859MfX9ZfDIC"
      },
      "source": [
        "## **Testando sinônimos de achados médicos**"
      ]
    },
    {
      "cell_type": "markdown",
      "metadata": {
        "id": "QaqbL53hFlsB"
      },
      "source": [
        "Optei por fazer a lista com as palavras já pré-processadas como eu gostaria. Sem acentos nem caracteres especiais."
      ]
    },
    {
      "cell_type": "code",
      "metadata": {
        "id": "e1rG-QsPkr_9"
      },
      "source": [
        "consolidation = ['consolidacao', 'consolidacoes', 'condensacao', 'condensacoes', 'condencacao', 'condencacoes']"
      ],
      "execution_count": 32,
      "outputs": []
    },
    {
      "cell_type": "code",
      "metadata": {
        "id": "7RopUQpDGRWR"
      },
      "source": [
        "nodule = ['nodulo', 'nodular', 'nodulariforme', 'lesao', 'nodularizado']"
      ],
      "execution_count": 33,
      "outputs": []
    },
    {
      "cell_type": "code",
      "metadata": {
        "id": "-I3A-spuGnc3"
      },
      "source": [
        "mixed_findings = ['cardiomegalia', 'arritmia', 'fibrilacao atrial', 'derrame', 'cancer']"
      ],
      "execution_count": 34,
      "outputs": []
    },
    {
      "cell_type": "code",
      "metadata": {
        "colab": {
          "base_uri": "https://localhost:8080/"
        },
        "id": "am6nllA0F19K",
        "outputId": "5d996b02-0672-4b43-e2f3-5fc0e4c40651"
      },
      "source": [
        "process.extractOne('condensante', consolidation+nodule+mixed_findings)"
      ],
      "execution_count": 35,
      "outputs": [
        {
          "output_type": "execute_result",
          "data": {
            "text/plain": [
              "('condensacoes', 78)"
            ]
          },
          "metadata": {
            "tags": []
          },
          "execution_count": 35
        }
      ]
    },
    {
      "cell_type": "markdown",
      "metadata": {
        "id": "gerPouIaHhVt"
      },
      "source": [
        "Quando observamos os 5 melhores resultados, vemos o quão delicada é a escolha do limiar. A palavra \"lesão\" e \"condensante\" são muito diferentes!"
      ]
    },
    {
      "cell_type": "code",
      "metadata": {
        "colab": {
          "base_uri": "https://localhost:8080/"
        },
        "id": "kv7lURryHK--",
        "outputId": "d99e340f-c0d1-4a37-8e20-034780a0ba3e"
      },
      "source": [
        "process.extractBests('condensante', consolidation+nodule+mixed_findings)"
      ],
      "execution_count": 36,
      "outputs": [
        {
          "output_type": "execute_result",
          "data": {
            "text/plain": [
              "[('condensacoes', 78),\n",
              " ('condensacao', 73),\n",
              " ('condencacao', 64),\n",
              " ('condencacoes', 61),\n",
              " ('lesao', 54)]"
            ]
          },
          "metadata": {
            "tags": []
          },
          "execution_count": 36
        }
      ]
    },
    {
      "cell_type": "code",
      "metadata": {
        "colab": {
          "base_uri": "https://localhost:8080/"
        },
        "id": "qSPR7NgKHQAr",
        "outputId": "215b7de7-0227-45cd-ca24-579987923c8f"
      },
      "source": [
        "process.extractOne('noduliforme', consolidation+nodule+mixed_findings)"
      ],
      "execution_count": 37,
      "outputs": [
        {
          "output_type": "execute_result",
          "data": {
            "text/plain": [
              "('nodulariforme', 92)"
            ]
          },
          "metadata": {
            "tags": []
          },
          "execution_count": 37
        }
      ]
    },
    {
      "cell_type": "markdown",
      "metadata": {
        "id": "U1RXaAxGH0UD"
      },
      "source": [
        "Mais um caso com palavras bem distintas. Se buscamos por sinônimos, o limiar deve ser bem alto para garantir coerência."
      ]
    },
    {
      "cell_type": "code",
      "metadata": {
        "colab": {
          "base_uri": "https://localhost:8080/"
        },
        "id": "Otl_0DqWHbAU",
        "outputId": "67260723-97c2-49d8-e169-89e8de5ed638"
      },
      "source": [
        "process.extractBests('noduliforme', consolidation+nodule+mixed_findings)"
      ],
      "execution_count": 38,
      "outputs": [
        {
          "output_type": "execute_result",
          "data": {
            "text/plain": [
              "[('nodulariforme', 92),\n",
              " ('nodulo', 75),\n",
              " ('nodular', 67),\n",
              " ('nodularizado', 61),\n",
              " ('consolidacoes', 50)]"
            ]
          },
          "metadata": {
            "tags": []
          },
          "execution_count": 38
        }
      ]
    },
    {
      "cell_type": "markdown",
      "metadata": {
        "id": "Q9JUilZbIL0c"
      },
      "source": [
        "Vamos ver como a função *dedupe* se comporta. Removeu apenas \"nodulo\". Quem sabe com algunas ajustes de limiar e qual tipo de *scorer* (aqueles que testamos com *fuzz.(...)*)"
      ]
    },
    {
      "cell_type": "code",
      "metadata": {
        "colab": {
          "base_uri": "https://localhost:8080/"
        },
        "id": "-19DeoGKIOt5",
        "outputId": "e1e910ab-f0ce-4074-e08d-5267723be198"
      },
      "source": [
        "print(nodule)\r\n",
        "process.dedupe(nodule)"
      ],
      "execution_count": 39,
      "outputs": [
        {
          "output_type": "stream",
          "text": [
            "['nodulo', 'nodular', 'nodulariforme', 'lesao', 'nodularizado']\n"
          ],
          "name": "stdout"
        },
        {
          "output_type": "execute_result",
          "data": {
            "text/plain": [
              "dict_keys(['nodular', 'nodularizado', 'nodulariforme', 'lesao'])"
            ]
          },
          "metadata": {
            "tags": []
          },
          "execution_count": 39
        }
      ]
    },
    {
      "cell_type": "markdown",
      "metadata": {
        "id": "ua775yQ9I--J"
      },
      "source": [
        "Com *partial_ratio* já obtivemos uma melhoria!"
      ]
    },
    {
      "cell_type": "code",
      "metadata": {
        "colab": {
          "base_uri": "https://localhost:8080/"
        },
        "id": "VeL-ztZOI2IX",
        "outputId": "f071a60f-cb6a-4cba-ab59-de4c44783aab"
      },
      "source": [
        "print(nodule)\r\n",
        "process.dedupe(nodule, scorer=fuzz.partial_ratio)"
      ],
      "execution_count": 40,
      "outputs": [
        {
          "output_type": "stream",
          "text": [
            "['nodulo', 'nodular', 'nodulariforme', 'lesao', 'nodularizado']\n"
          ],
          "name": "stdout"
        },
        {
          "output_type": "execute_result",
          "data": {
            "text/plain": [
              "dict_keys(['nodulariforme', 'lesao'])"
            ]
          },
          "metadata": {
            "tags": []
          },
          "execution_count": 40
        }
      ]
    },
    {
      "cell_type": "markdown",
      "metadata": {
        "id": "xXKcdAyigjee"
      },
      "source": [
        "## **Testando presença de achados médicos**"
      ]
    },
    {
      "cell_type": "markdown",
      "metadata": {
        "id": "RD6Lht4c0drN"
      },
      "source": [
        "Um problema muito comum em processamento de linguagem natural refere-se à afirmação ou negação de uma informação em determinados textos. \r\n",
        "\r\n",
        "No contexto de saúde, isso também ocorre. Em laudos médicos, por exemplo, podemos extrair informações clínicas muito relevantes (como vimos no caso anterior), mas a parte mais delicada é justamente o estado daquilo que queremos extrair."
      ]
    },
    {
      "cell_type": "markdown",
      "metadata": {
        "id": "6M0oGjOa0vpr"
      },
      "source": [
        "Para nódulos, por exemplo, poderíamos ter:\r\n",
        "\r\n",
        "*   \"Ausência de nódulos\" \r\n",
        "*   \"Apresenta nódulo calcificado\"\r\n",
        "*   \"Imagem nodular a esclarecer\"\r\n",
        "\r\n",
        "**Todas as frases se referem a nódulos, mas com significados completamente distintos!**"
      ]
    },
    {
      "cell_type": "markdown",
      "metadata": {
        "id": "kgVPdn_pDY0F"
      },
      "source": [
        "Vamos aos nossos testes então! Primeiro vou definir a lista de escolhas com opções de expressões que representam a negação ou dúvida do achado."
      ]
    },
    {
      "cell_type": "code",
      "metadata": {
        "id": "jkxBBiLggnM2"
      },
      "source": [
        "absence = ['ausencia de', 'sem sinais de', 'sem sinal de', 'nao evidenciamos sinais de', 'nao evidenciamos sinal de', 'nao ha evidencias', 'nao ha sinal', 'nao ha sinais']"
      ],
      "execution_count": 41,
      "outputs": []
    },
    {
      "cell_type": "code",
      "metadata": {
        "id": "C4OHxTtsgs8z"
      },
      "source": [
        "clue = ['aparente', 'questionavel', 'possivel', 'equivoca', 'a esclarecer']"
      ],
      "execution_count": 42,
      "outputs": []
    },
    {
      "cell_type": "code",
      "metadata": {
        "id": "N6rF-pT3hEgg"
      },
      "source": [
        "choices = absence + clue"
      ],
      "execution_count": 43,
      "outputs": []
    },
    {
      "cell_type": "markdown",
      "metadata": {
        "id": "VSWE-2moDXvZ"
      },
      "source": [
        "Agora podemos verificar o comportamento da extração. Nesse primeiro caso, foi fácil... Os *scores* ficaram bem altos."
      ]
    },
    {
      "cell_type": "code",
      "metadata": {
        "colab": {
          "base_uri": "https://localhost:8080/"
        },
        "id": "VKvQ4e-fl4vt",
        "outputId": "d342191e-400d-4cdf-e310-287e36a6bc57"
      },
      "source": [
        "process.extractBests('nao tem nenhuma evidencia', absence)"
      ],
      "execution_count": 45,
      "outputs": [
        {
          "output_type": "execute_result",
          "data": {
            "text/plain": [
              "[('nao ha sinal', 86),\n",
              " ('nao ha sinais', 86),\n",
              " ('nao ha evidencias', 76),\n",
              " ('nao evidenciamos sinal de', 61),\n",
              " ('nao evidenciamos sinais de', 60)]"
            ]
          },
          "metadata": {
            "tags": []
          },
          "execution_count": 45
        }
      ]
    },
    {
      "cell_type": "markdown",
      "metadata": {
        "id": "mUw-AdqpL2pK"
      },
      "source": [
        "Já nesse exemplo, os *scores* ficaram muito baixos, apesar de ter acertado as duas expressões que aparecem primeiro."
      ]
    },
    {
      "cell_type": "code",
      "metadata": {
        "colab": {
          "base_uri": "https://localhost:8080/"
        },
        "id": "A4FiIFEBg_lx",
        "outputId": "db4fff08-a6af-4cdb-d2ef-9072608962e5"
      },
      "source": [
        "process.extractBests('parece ser um nodulo', choices)"
      ],
      "execution_count": 46,
      "outputs": [
        {
          "output_type": "execute_result",
          "data": {
            "text/plain": [
              "[('aparente', 56),\n",
              " ('a esclarecer', 50),\n",
              " ('sem sinal de', 45),\n",
              " ('sem sinais de', 41),\n",
              " ('ausencia de', 32)]"
            ]
          },
          "metadata": {
            "tags": []
          },
          "execution_count": 46
        }
      ]
    },
    {
      "cell_type": "markdown",
      "metadata": {
        "id": "n9kN8R4kMRFk"
      },
      "source": [
        "Mais uma opção que acertou bem a negação, muito provavelmente pela palavra \"não\" estar presente."
      ]
    },
    {
      "cell_type": "code",
      "metadata": {
        "colab": {
          "base_uri": "https://localhost:8080/"
        },
        "id": "HvY1arCfhPte",
        "outputId": "fec5fd3a-727d-4bd7-be48-486b3d4d6246"
      },
      "source": [
        "process.extractBests('com certeza absoluta nao e cardiomegalia', choices)"
      ],
      "execution_count": 47,
      "outputs": [
        {
          "output_type": "execute_result",
          "data": {
            "text/plain": [
              "[('nao evidenciamos sinais de', 86),\n",
              " ('nao evidenciamos sinal de', 86),\n",
              " ('nao ha evidencias', 86),\n",
              " ('nao ha sinal', 86),\n",
              " ('nao ha sinais', 86)]"
            ]
          },
          "metadata": {
            "tags": []
          },
          "execution_count": 47
        }
      ]
    },
    {
      "cell_type": "markdown",
      "metadata": {
        "id": "GBDDp9i7Md7q"
      },
      "source": [
        "Já com uma frase que indica presença, os *scores* ficaram bem baixos, correspondendo às expectativas, porque não temos na lista nada referente ao caso."
      ]
    },
    {
      "cell_type": "code",
      "metadata": {
        "colab": {
          "base_uri": "https://localhost:8080/"
        },
        "id": "W0DnFxu5hUj_",
        "outputId": "df2b26ae-f977-4f28-9be6-8fd6784cbb96"
      },
      "source": [
        "process.extractBests('e um nodulo', choices)"
      ],
      "execution_count": 48,
      "outputs": [
        {
          "output_type": "execute_result",
          "data": {
            "text/plain": [
              "[('sem sinal de', 43),\n",
              " ('sem sinais de', 42),\n",
              " ('nao ha sinal', 35),\n",
              " ('nao ha evidencias', 34),\n",
              " ('equivoca', 32)]"
            ]
          },
          "metadata": {
            "tags": []
          },
          "execution_count": 48
        }
      ]
    },
    {
      "cell_type": "markdown",
      "metadata": {
        "id": "4eF58gV6MwG0"
      },
      "source": [
        "O exemplo abaixo é um tanto subjetivo. A expressão \"deve ser\" sugere ser uma pista (*clue*), mas a extração achou mais próximo da negação. Porém, pelos *scores* baixos, ficou muito semelhante ao caso anterior, de afirmação. "
      ]
    },
    {
      "cell_type": "code",
      "metadata": {
        "colab": {
          "base_uri": "https://localhost:8080/"
        },
        "id": "0kFptJIChfmR",
        "outputId": "dcda3026-fcb8-4f2e-8bd5-156a9d8e976f"
      },
      "source": [
        "process.extractBests('deve ser um nodulo', choices)"
      ],
      "execution_count": 49,
      "outputs": [
        {
          "output_type": "execute_result",
          "data": {
            "text/plain": [
              "[('sem sinal de', 45),\n",
              " ('nao evidenciamos sinal de', 40),\n",
              " ('nao evidenciamos sinais de', 39),\n",
              " ('sem sinais de', 37),\n",
              " ('nao ha sinal', 36)]"
            ]
          },
          "metadata": {
            "tags": []
          },
          "execution_count": 49
        }
      ]
    },
    {
      "cell_type": "markdown",
      "metadata": {
        "id": "fVXjvwxPNT_s"
      },
      "source": [
        "Para outro exemplo de afirmação do achado, fiquei bastante surpresa com o resultado. Como as palavras \"presente\" e \"aparente\" são semelhantes, o *score* foi bem alto, mas foi a única possibilidade concreta."
      ]
    },
    {
      "cell_type": "code",
      "metadata": {
        "colab": {
          "base_uri": "https://localhost:8080/"
        },
        "id": "E1cawKMYhumz",
        "outputId": "c58d876b-8af7-4603-eccb-2d22047555a5"
      },
      "source": [
        "process.extractBests('nodulo presente', choices)"
      ],
      "execution_count": 50,
      "outputs": [
        {
          "output_type": "execute_result",
          "data": {
            "text/plain": [
              "[('aparente', 68),\n",
              " ('ausencia de', 38),\n",
              " ('nao ha evidencias', 38),\n",
              " ('nao ha sinal', 37),\n",
              " ('nao evidenciamos sinais de', 36)]"
            ]
          },
          "metadata": {
            "tags": []
          },
          "execution_count": 50
        }
      ]
    },
    {
      "cell_type": "markdown",
      "metadata": {
        "id": "GZBtxwpcNqIE"
      },
      "source": [
        "Fazendo para as listas de negação e pista separadamente:"
      ]
    },
    {
      "cell_type": "markdown",
      "metadata": {
        "id": "yOEui7MhN_Dc"
      },
      "source": [
        "No primeiro exemplo, acertou com facilidade pela semelhança das palavras ser forte."
      ]
    },
    {
      "cell_type": "code",
      "metadata": {
        "colab": {
          "base_uri": "https://localhost:8080/"
        },
        "id": "VxIoiVDyhyNT",
        "outputId": "b19ff42f-a232-4741-8b8c-4d912d0a64da"
      },
      "source": [
        "print(process.extractBests('possivelmente um nodulo', clue))\r\n",
        "print('--------------')\r\n",
        "print(process.extractBests('possivelmente um nodulo', absence))"
      ],
      "execution_count": 51,
      "outputs": [
        {
          "output_type": "stream",
          "text": [
            "[('possivel', 90), ('aparente', 45), ('questionavel', 43), ('a esclarecer', 28), ('equivoca', 22)]\n",
            "--------------\n",
            "[('sem sinal de', 38), ('sem sinais de', 36), ('nao ha sinal', 36), ('nao ha sinais', 32), ('nao evidenciamos sinais de', 28)]\n"
          ],
          "name": "stdout"
        }
      ]
    },
    {
      "cell_type": "markdown",
      "metadata": {
        "id": "JHw2VWBKOFOu"
      },
      "source": [
        "Já nos exemplos a seguir, temos um caso curioso. Ambas tiveram *scores* semelhantes para a lista *clue*. Para a lista *absence* a diferença ficou um pouco mais coerente."
      ]
    },
    {
      "cell_type": "code",
      "metadata": {
        "colab": {
          "base_uri": "https://localhost:8080/"
        },
        "id": "ty4hvchpiHAr",
        "outputId": "8fd1bbf7-198d-444d-e526-e2630dcea165"
      },
      "source": [
        "print(process.extractBests('apresenta um nodulo', clue))\r\n",
        "print('--------------')\r\n",
        "print(process.extractBests('apresenta um nodulo', absence))"
      ],
      "execution_count": 52,
      "outputs": [
        {
          "output_type": "stream",
          "text": [
            "[('aparente', 68), ('questionavel', 36), ('possivel', 34), ('a esclarecer', 26), ('equivoca', 22)]\n",
            "--------------\n",
            "[('ausencia de', 50), ('sem sinal de', 45), ('sem sinais de', 38), ('nao ha sinal', 38), ('nao ha evidencias', 37)]\n"
          ],
          "name": "stdout"
        }
      ]
    },
    {
      "cell_type": "code",
      "metadata": {
        "colab": {
          "base_uri": "https://localhost:8080/"
        },
        "id": "y-IfEzGgiQgX",
        "outputId": "085703cd-e205-458b-cb35-30033a6b5d54"
      },
      "source": [
        "print(process.extractBests('nao apresenta nodulo', clue))\r\n",
        "print('--------------')\r\n",
        "print(process.extractBests('nao apresenta nodulo', absence))"
      ],
      "execution_count": 54,
      "outputs": [
        {
          "output_type": "stream",
          "text": [
            "[('aparente', 68), ('questionavel', 38), ('a esclarecer', 38), ('possivel', 34), ('equivoca', 28)]\n",
            "--------------\n",
            "[('nao ha sinal', 86), ('nao ha sinais', 86), ('ausencia de', 50), ('nao evidenciamos sinal de', 49), ('nao ha evidencias', 49)]\n"
          ],
          "name": "stdout"
        }
      ]
    },
    {
      "cell_type": "markdown",
      "metadata": {
        "id": "LEt8pMzEOc7F"
      },
      "source": [
        "Por fim, podemos escolher diferentes parâmetros e ver como eles podem impactar no resultado."
      ]
    },
    {
      "cell_type": "markdown",
      "metadata": {
        "id": "8hW5G9SCPUMV"
      },
      "source": [
        "No exemplo abaixo, podemos notar a mega diferença que destaca o resultado quando usamos *partial ratio*. Ou seja, a escolha da configuração é essencial!"
      ]
    },
    {
      "cell_type": "code",
      "metadata": {
        "colab": {
          "base_uri": "https://localhost:8080/"
        },
        "id": "_0bDzU1Asx9l",
        "outputId": "8d93b7d1-6dc5-41bf-d89e-dbe750c22fd0"
      },
      "source": [
        "print('Ratio')\r\n",
        "print(process.extract('nao apresenta nodulo', choices, scorer=fuzz.ratio, limit=2))\r\n",
        "print('Partial ratio')\r\n",
        "print(process.extract('nao apresenta nodulo', choices, scorer=fuzz.partial_ratio, limit=2))\r\n",
        "print('Token set ratio')\r\n",
        "print(process.extract('nao apresenta nodulo', choices, scorer=fuzz.token_set_ratio, limit=2))\r\n",
        "print('Token sort ratio')\r\n",
        "print(process.extract('nao apresenta nodulo', choices, scorer=fuzz.token_sort_ratio, limit=2))"
      ],
      "execution_count": 62,
      "outputs": [
        {
          "output_type": "stream",
          "text": [
            "Ratio\n",
            "[('nao ha sinal', 50), ('nao evidenciamos sinal de', 49)]\n",
            "Partial ratio\n",
            "[('aparente', 75), ('nao ha sinais', 62)]\n",
            "Token set ratio\n",
            "[('nao ha sinal', 50), ('nao evidenciamos sinal de', 49)]\n",
            "Token sort ratio\n",
            "[('nao ha sinal', 50), ('nao evidenciamos sinal de', 49)]\n"
          ],
          "name": "stdout"
        }
      ]
    },
    {
      "cell_type": "markdown",
      "metadata": {
        "id": "PnABhMJMLWXU"
      },
      "source": [
        "**Referências**\r\n",
        "\r\n",
        "\r\n",
        "*   https://pypi.org/project/fuzzywuzzy/\r\n",
        "*   https://github.com/seatgeek/fuzzywuzzy\r\n",
        "\r\n"
      ]
    }
  ]
}